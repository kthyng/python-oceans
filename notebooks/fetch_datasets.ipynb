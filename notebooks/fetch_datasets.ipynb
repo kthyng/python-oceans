{
 "cells": [
  {
   "cell_type": "markdown",
   "metadata": {},
   "source": [
    "# Bathymetry"
   ]
  },
  {
   "cell_type": "code",
   "execution_count": null,
   "metadata": {},
   "outputs": [],
   "source": [
    "import pandas as pd\n",
    "from oceans.datasets import get_depth\n",
    "\n",
    "\n",
    "df = pd.DataFrame(\n",
    "    data=[[-40, -20], [-32, -20]],\n",
    "    columns=[\"lon\", \"lat\"],\n",
    ")\n",
    "\n",
    "df[\"depth\"] = get_depth(df[\"lon\"], df[\"lat\"])\n",
    "df"
   ]
  },
  {
   "cell_type": "code",
   "execution_count": null,
   "metadata": {},
   "outputs": [],
   "source": [
    "from oceans.datasets import etopo_subset, get_isobath\n",
    "\n",
    "\n",
    "bbox = [-43, -30, -22, -17]\n",
    "\n",
    "segments = get_isobath(bbox=bbox, iso=-200, smoo=True)\n",
    "lon, lat, bathy = etopo_subset(bbox=bbox, smoo=True)"
   ]
  },
  {
   "cell_type": "code",
   "execution_count": null,
   "metadata": {},
   "outputs": [],
   "source": [
    "import matplotlib.pyplot as plt\n",
    "import cartopy.crs as ccrs\n",
    "\n",
    "\n",
    "fig, ax = plt.subplots(\n",
    "    figsize=(12, 12),\n",
    "    subplot_kw={\"projection\": ccrs.PlateCarree()}\n",
    ")\n",
    "\n",
    "ax.plot(df[\"lon\"], df[\"lat\"], \"ro\")\n",
    "for k, row in df.iterrows():\n",
    "    ax.text(row[\"lon\"], row[\"lat\"], f\"{row['depth']:.2f} m\", color=\"white\")\n",
    "\n",
    "cs = ax.pcolormesh(lon, lat, bathy)\n",
    "for segment in segments:\n",
    "    lines = ax.plot(segment[:, 0], segment[:, -1], \"darkorange\", linewidth=2)\n",
    "\n",
    "ax.coastlines(\"10m\")\n",
    "ax.gridlines(draw_labels=True, );"
   ]
  },
  {
   "cell_type": "code",
   "execution_count": null,
   "metadata": {},
   "outputs": [],
   "source": [
    "from oceans.datasets import woa_profile\n",
    "\n",
    "\n",
    "cube = woa_profile(-143, 10, variable=\"temperature\", time_period=\"annual\", resolution=\"5\")\n",
    "\n",
    "fig, ax = plt.subplots(figsize=(4.25, 7))\n",
    "z = cube.coord(axis=\"Z\").points\n",
    "l = ax.plot(cube[0, :].data, z)\n",
    "ax.grid(True)\n",
    "ax.invert_yaxis()"
   ]
  },
  {
   "cell_type": "markdown",
   "metadata": {},
   "source": [
    "# Extract a 2D surface -- Annual temperature climatology"
   ]
  },
  {
   "cell_type": "code",
   "execution_count": null,
   "metadata": {},
   "outputs": [],
   "source": [
    "import iris.plot as iplt\n",
    "from oceans.datasets import woa_subset\n",
    "from oceans.colormaps import cm\n",
    "\n",
    "\n",
    "bbox = [2.5, 357.5, -87.5, 87.5]\n",
    "cube = woa_subset(bbox, variable=\"temperature\", time_period=\"annual\", resolution=\"5\")\n",
    "c = cube[0, 0, ...]  # Slice singleton time and first level.\n",
    "\n",
    "fig, ax = plt.subplots(figsize=(12, 12))\n",
    "\n",
    "cs = iplt.pcolormesh(c, cmap=cm.avhrr)\n",
    "cbar = plt.colorbar(cs)"
   ]
  },
  {
   "cell_type": "markdown",
   "metadata": {},
   "source": [
    "# Extract a square around the Mariana Trench averaging into a profile"
   ]
  },
  {
   "cell_type": "code",
   "execution_count": null,
   "metadata": {},
   "outputs": [],
   "source": [
    "import warnings\n",
    "import iris\n",
    "from oceans.colormaps import get_color\n",
    "\n",
    "\n",
    "months = \"Jan Feb Apr Mar May Jun Jul Aug Sep Oct Nov Dec\".split()\n",
    "colors = get_color(len(months))\n",
    "bbox = [-143, -141, 10, 12]\n",
    "\n",
    "fig, ax = plt.subplots(figsize=(5, 5))\n",
    "\n",
    "for month in months:\n",
    "    cube = woa_subset(bbox, time_period=month, variable=\"temperature\", resolution=\"1\")\n",
    "    with warnings.catch_warnings():\n",
    "        warnings.simplefilter(\"ignore\")\n",
    "        grid_areas = iris.analysis.cartography.area_weights(cube)\n",
    "        c = cube.collapsed([\"longitude\", \"latitude\"], iris.analysis.MEAN, weights=grid_areas)\n",
    "    z = c.coord(axis=\"Z\").points\n",
    "    l = ax.plot(c[0, :].data, z, label=month, color=next(colors))\n",
    "\n",
    "ax.grid(True)\n",
    "ax.invert_yaxis()\n",
    "leg = ax.legend(loc=\"lower left\")\n",
    "ax.set_ylim(200, 0);"
   ]
  }
 ],
 "metadata": {
  "kernelspec": {
   "display_name": "Python 3 (ipykernel)",
   "language": "python",
   "name": "python3"
  },
  "language_info": {
   "codemirror_mode": {
    "name": "ipython",
    "version": 3
   },
   "file_extension": ".py",
   "mimetype": "text/x-python",
   "name": "python",
   "nbconvert_exporter": "python",
   "pygments_lexer": "ipython3",
   "version": "3.11.0"
  }
 },
 "nbformat": 4,
 "nbformat_minor": 2
}
